{
 "metadata": {
  "language_info": {
   "codemirror_mode": {
    "name": "ipython",
    "version": 3
   },
   "file_extension": ".py",
   "mimetype": "text/x-python",
   "name": "python",
   "nbconvert_exporter": "python",
   "pygments_lexer": "ipython3",
   "version": "3.8.3-final"
  },
  "orig_nbformat": 2,
  "kernelspec": {
   "name": "python_defaultSpec_1599162603803",
   "display_name": "Python 3.8.3 64-bit ('base': conda)"
  }
 },
 "nbformat": 4,
 "nbformat_minor": 2,
 "cells": [
  {
   "cell_type": "code",
   "execution_count": 1,
   "metadata": {
    "tags": []
   },
   "outputs": [
    {
     "output_type": "stream",
     "name": "stdout",
     "text": "Requirement already satisfied: pandas in /Users/Kelli/opt/anaconda3/lib/python3.8/site-packages (1.0.5)\nRequirement already satisfied: pytz>=2017.2 in /Users/Kelli/opt/anaconda3/lib/python3.8/site-packages (from pandas) (2020.1)\nRequirement already satisfied: numpy>=1.13.3 in /Users/Kelli/opt/anaconda3/lib/python3.8/site-packages (from pandas) (1.18.5)\nRequirement already satisfied: python-dateutil>=2.6.1 in /Users/Kelli/opt/anaconda3/lib/python3.8/site-packages (from pandas) (2.8.1)\nRequirement already satisfied: six>=1.5 in /Users/Kelli/opt/anaconda3/lib/python3.8/site-packages (from python-dateutil>=2.6.1->pandas) (1.15.0)\nNote: you may need to restart the kernel to use updated packages.\n"
    }
   ],
   "source": [
    "###Install pandas to import excel file\n",
    "pip install pandas"
   ]
  },
  {
   "cell_type": "code",
   "execution_count": 1,
   "metadata": {
    "tags": []
   },
   "outputs": [
    {
     "output_type": "stream",
     "name": "stdout",
     "text": "AU_ID  Unnamed: 1    Sample       MLocID  \\\n0  OR_WS_171002060101_02_105259       1753.0  07036DFW  34617-ORDEQ   \n1  OR_WS_171002060101_02_105259       2818.0  95028REM  12522-ORDEQ   \n2  OR_WS_171002060101_02_105259       3011.0  96056REM  12522-ORDEQ   \n3                            NaN         NaN       NaN          NaN   \n4  OR_WS_171002040802_02_106143       1824.0  07091DFW  34672-ORDEQ   \n\n   STATION_KEY     Date Habitat_sampled Field_QA Lab_QA  \\\n0      34617.0  39335.0               R        S      S   \n1      12522.0  34921.0               R        S      S   \n2      12522.0  35283.0               R        S      S   \n3          NaN      NaN             NaN      NaN    NaN   \n4      34672.0  39329.0               R        S      S   \n\n                             Site_name  ...       HUC8_Name  \\\n0  Wolf Cr at RM 3.26 US of NF Wolf Cr  ...         Nehalem   \n1                Eames Creek at RM 4.8  ...         Siuslaw   \n2                Eames Creek at RM 4.8  ...         Siuslaw   \n3                                  NaN  ...             NaN   \n4                     Deer Cr at Mouth  ...  Siletz-Yaquina   \n\n                 HUC10_Name          HUC12_Name  low_count  Methods_ok  \\\n0  Headwaters Nehalem River          Wolf Creek         NO         Yes   \n1                Wolf Creek    Upper Wolf Creek         NO          No   \n2                Wolf Creek    Upper Wolf Creek         NO          No   \n3                       NaN                 NaN        NaN         NaN   \n4              Salmon River  Upper Salmon River         NO         Yes   \n\n  OE_outlier month  index_period  Use_303d  reason_no303  \n0         No   9.0           Yes       Yes                \n1         No   8.0           Yes        No   methods      \n2         No   8.0           Yes        No   methods      \n3        NaN   NaN           NaN       NaN           NaN  \n4         No   9.0           Yes       Yes                \n\n[5 rows x 94 columns]\n"
    }
   ],
   "source": [
    "###Import excel file\n",
    "import pandas as pd\n",
    "\n",
    "df = pd.read_excel (r'/Users/Kelli/Desktop/DEQ Internship Docs/TMDL_Biocriteria_StressorID.xlsx')\n",
    "print(df)"
   ]
  },
  {
   "cell_type": "code",
   "execution_count": 2,
   "metadata": {
    "tags": []
   },
   "outputs": [
    {
     "output_type": "stream",
     "name": "stdout",
     "text": "Site_name\n0  Wolf Cr at RM 3.26 US of NF Wolf Cr\n1                Eames Creek at RM 4.8\n2                Eames Creek at RM 4.8\n3                                  NaN\n4                     Deer Cr at Mouth\n"
    }
   ],
   "source": [
    "###To select a specific column(s) from excel file (for multiple columns separate names by comma i.e. ['Site_name', 'Project'])\n",
    "data = pd.read_excel (r'/Users/Kelli/Desktop/DEQ Internship Docs/TMDL_Biocriteria_StressorID.xlsx')\n",
    "df = pd.DataFrame(data, columns= ['Site_name'])\n",
    "print(df)"
   ]
  },
  {
   "cell_type": "code",
   "execution_count": 3,
   "metadata": {
    "tags": []
   },
   "outputs": [
    {
     "output_type": "stream",
     "name": "stdout",
     "text": "AU_ID\n4  OR_WS_171002040802_02_106143 \n"
    }
   ],
   "source": [
    "###To find rows that contain a specific value (to include other columns with corresponding value use comma i.e. 'AU_ID', 'Diptera_rich')\n",
    "\n",
    "data = pd.read_excel (r'/Users/Kelli/Desktop/DEQ Internship Docs/TMDL_Biocriteria_StressorID.xlsx')\n",
    "df = pd.DataFrame(data, columns = ['AU_ID'])\n",
    "contain_values = df[df['AU_ID'].astype(str).str.contains('OR_WS_171002040802_02_106143')]\n",
    "print (contain_values)"
   ]
  },
  {
   "cell_type": "code",
   "execution_count": null,
   "metadata": {},
   "outputs": [],
   "source": []
  }
 ]
}